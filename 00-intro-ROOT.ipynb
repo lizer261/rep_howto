{
 "cells": [
  {
   "cell_type": "markdown",
   "metadata": {},
   "source": [
    "# About\n",
    "\n",
    "In this notebook we show how to use inside IPython __ROOT__ (C++ library, de-facto standard in High Energy Physics).\n",
    "\n",
    "This notebook is aimed to help __ROOT__ users.\n",
    "\n",
    "Working using ROOT-way loops is very slow in python and in most cases useless.\n",
    "\n",
    "You're proposed to use `root_numpy` - a very convenient python library to operate with ROOT (`root_numpy` is included in REP docker)."
   ]
  },
  {
   "cell_type": "markdown",
   "metadata": {},
   "source": [
    "### Allowing inline plots"
   ]
  },
  {
   "cell_type": "code",
   "execution_count": 1,
   "metadata": {
    "collapsed": false
   },
   "outputs": [
    {
     "name": "stdout",
     "output_type": "stream",
     "text": [
      "Populating the interactive namespace from numpy and matplotlib\n"
     ]
    }
   ],
   "source": [
    "%pylab inline"
   ]
  },
  {
   "cell_type": "markdown",
   "metadata": {},
   "source": [
    "## Creating ROOT file using root_numpy\n",
    "\n",
    "There are two libraries to work with ROOT files\n",
    "\n",
    "* rootpy http://www.rootpy.org - direct wrapper to ROOT methods.\n",
    "* root_numpy http://rootpy.github.io/root_numpy/ - new-style, efficient and simple library to deal with ROOT files from python\n",
    "\n",
    "Let's show how to use the second library."
   ]
  },
  {
   "cell_type": "code",
   "execution_count": 2,
   "metadata": {
    "collapsed": false
   },
   "outputs": [],
   "source": [
    "import numpy\n",
    "import root_numpy\n",
    "# generating random data\n",
    "data = numpy.random.normal(size=[10000, 2])\n",
    "# adding names of columns\n",
    "data = data.view([('first', float), ('second', float)])\n",
    "# saving to file\n",
    "root_numpy.array2root(data, filename='./toy_datasets/random.root', treename='tree', mode='recreate')"
   ]
  },
  {
   "cell_type": "code",
   "execution_count": 3,
   "metadata": {
    "collapsed": false
   },
   "outputs": [
    {
     "name": "stdout",
     "output_type": "stream",
     "text": [
      "MiniBooNE_PID.txt README.md         magic04.data      random.root\r\n"
     ]
    }
   ],
   "source": [
    "!ls ./toy_datasets"
   ]
  },
  {
   "cell_type": "markdown",
   "metadata": {},
   "source": [
    "## Add column to the ROOT file using root_numpy"
   ]
  },
  {
   "cell_type": "code",
   "execution_count": 4,
   "metadata": {
    "collapsed": false
   },
   "outputs": [
    {
     "name": "stderr",
     "output_type": "stream",
     "text": [
      "/Users/antares/.virtualenvs/rep/lib/python2.7/site-packages/IPython/kernel/__init__.py:13: ShimWarning: The `IPython.kernel` package has been deprecated. You should import from ipykernel or jupyter_client instead.\n",
      "  \"You should import from ipykernel or jupyter_client instead.\", ShimWarning)\n"
     ]
    }
   ],
   "source": [
    "from rootpy.io import root_open\n",
    "with root_open('./toy_datasets/random.root', mode='a') as myfile:\n",
    "    new_column = numpy.array(numpy.ones([10000, 1]) , dtype=[('new', 'f8')])\n",
    "    root_numpy.array2tree(new_column, tree=myfile.tree)\n",
    "    myfile.write()"
   ]
  },
  {
   "cell_type": "code",
   "execution_count": 5,
   "metadata": {
    "collapsed": false
   },
   "outputs": [
    {
     "data": {
      "text/plain": [
       "array([(1.0499790875460244, -0.22133603992621217, 1.0),\n",
       "       (0.9871171444480903, -0.34833252587788277, 1.0),\n",
       "       (0.31660983000800413, 0.5797451309682367, 1.0), ...,\n",
       "       (-1.0921299400627056, -1.2044487169596867, 1.0),\n",
       "       (1.2491057712644054, 0.254818083880807, 1.0),\n",
       "       (-1.0557835467213994, -0.8980678862278234, 1.0)], \n",
       "      dtype=[('first', '<f8'), ('second', '<f8'), ('new', '<f8')])"
      ]
     },
     "execution_count": 5,
     "metadata": {},
     "output_type": "execute_result"
    }
   ],
   "source": [
    "root_numpy.root2array('./toy_datasets/random.root', treename='tree')"
   ]
  },
  {
   "cell_type": "markdown",
   "metadata": {},
   "source": [
    "# Plot function using ROOT\n",
    "\n",
    "pay attention that `canvas` is on the last line. This is an output value of cell.\n",
    "\n",
    "When IPython cell return canvas, it is automatically drawn"
   ]
  },
  {
   "cell_type": "code",
   "execution_count": 6,
   "metadata": {
    "collapsed": false
   },
   "outputs": [
    {
     "data": {
      "image/png": "[encoded data removed]",
      "text/plain": [
       "<ROOT.TCanvas object (\"icanvas\") at 0x7f9dfc6e16e0>"
      ]
     },
     "execution_count": 6,
     "metadata": {},
     "output_type": "execute_result"
    }
   ],
   "source": [
    "import ROOT\n",
    "from rep.plotting import default_canvas\n",
    "canvas = default_canvas()\n",
    "fun1 = ROOT.TF1( 'fun1', 'abs(sin(x)/x)', 0, 10)\n",
    "canvas.SetGridx()\n",
    "canvas.SetGridy()\n",
    "fun1.Draw()\n",
    "# Drawing output (last line is considered as output of cell)\n",
    "canvas"
   ]
  },
  {
   "cell_type": "markdown",
   "metadata": {},
   "source": [
    "# Plot histogram using ROOT for branch in root file"
   ]
  },
  {
   "cell_type": "code",
   "execution_count": 7,
   "metadata": {
    "collapsed": false
   },
   "outputs": [
    {
     "data": {
      "image/png": "[encoded data removed]",
      "text/plain": [
       "<ROOT.TCanvas object (\"icanvas\") at 0x7f9dfc6e16e0>"
      ]
     },
     "execution_count": 7,
     "metadata": {},
     "output_type": "execute_result"
    }
   ],
   "source": [
    "File = ROOT.TFile(\"toy_datasets/random.root\")\n",
    "Tree = File.Get(\"tree\")\n",
    "Tree.Draw(\"first\")\n",
    "canvas"
   ]
  },
  {
   "cell_type": "markdown",
   "metadata": {},
   "source": [
    "## use histogram settings"
   ]
  },
  {
   "cell_type": "code",
   "execution_count": 8,
   "metadata": {
    "collapsed": false
   },
   "outputs": [
    {
     "data": {
      "image/png": "[encoded data removed]",
      "text/plain": [
       "<ROOT.TCanvas object (\"icanvas\") at 0x7f9dfc6e16e0>"
      ]
     },
     "execution_count": 8,
     "metadata": {},
     "output_type": "execute_result"
    }
   ],
   "source": [
    "# we need to keep histogram in any variable, otherwise it will be deleted automatically\n",
    "h1 = ROOT.TH1F(\"h1\",\"hist from tree\",50, -0.25, 0.25)\n",
    "Tree.Draw(\"first>>h1\")\n",
    "canvas"
   ]
  },
  {
   "cell_type": "markdown",
   "metadata": {},
   "source": [
    "# root_numpy + ipython way\n",
    "\n",
    "But IPython provides it's own plotting / data manipulation techniques. Brief demostration below.\n",
    "\n",
    "Pay attention that we written the columns which will be evaluated on-the-fly."
   ]
  },
  {
   "cell_type": "code",
   "execution_count": 9,
   "metadata": {
    "collapsed": false
   },
   "outputs": [],
   "source": [
    "data = root_numpy.root2array(\"toy_datasets/random.root\", \n",
    "                             treename='tree', \n",
    "                             branches=['first', 'second', 'sin(first) * exp(second)'], \n",
    "                             selection='first > 0')"
   ]
  },
  {
   "cell_type": "markdown",
   "metadata": {},
   "source": [
    "__in example above__ we selected three branches (one of which is an expression and will be computed on-the-fly) and selections"
   ]
  },
  {
   "cell_type": "code",
   "execution_count": 10,
   "metadata": {
    "collapsed": false
   },
   "outputs": [],
   "source": [
    "# taking, i.e. first 10 elements:\n",
    "data2 = data[:10]"
   ]
  },
  {
   "cell_type": "markdown",
   "metadata": {},
   "source": [
    "### convert to pandas"
   ]
  },
  {
   "cell_type": "code",
   "execution_count": 11,
   "metadata": {
    "collapsed": false
   },
   "outputs": [
    {
     "data": {
      "text/html": [
       "<div>\n",
       "<table border=\"1\" class=\"dataframe\">\n",
       "  <thead>\n",
       "    <tr style=\"text-align: right;\">\n",
       "      <th></th>\n",
       "      <th>first</th>\n",
       "      <th>second</th>\n",
       "      <th>sin(first) * exp(second)</th>\n",
       "    </tr>\n",
       "  </thead>\n",
       "  <tbody>\n",
       "    <tr>\n",
       "      <th>0</th>\n",
       "      <td>1.049979</td>\n",
       "      <td>-0.221336</td>\n",
       "      <td>0.695186</td>\n",
       "    </tr>\n",
       "    <tr>\n",
       "      <th>1</th>\n",
       "      <td>0.987117</td>\n",
       "      <td>-0.348333</td>\n",
       "      <td>0.589002</td>\n",
       "    </tr>\n",
       "    <tr>\n",
       "      <th>2</th>\n",
       "      <td>0.316610</td>\n",
       "      <td>0.579745</td>\n",
       "      <td>0.555935</td>\n",
       "    </tr>\n",
       "    <tr>\n",
       "      <th>3</th>\n",
       "      <td>1.316638</td>\n",
       "      <td>0.053059</td>\n",
       "      <td>1.020617</td>\n",
       "    </tr>\n",
       "    <tr>\n",
       "      <th>4</th>\n",
       "      <td>1.741003</td>\n",
       "      <td>0.009653</td>\n",
       "      <td>0.995109</td>\n",
       "    </tr>\n",
       "  </tbody>\n",
       "</table>\n",
       "</div>"
      ],
      "text/plain": [
       "      first    second  sin(first) * exp(second)\n",
       "0  1.049979 -0.221336                  0.695186\n",
       "1  0.987117 -0.348333                  0.589002\n",
       "2  0.316610  0.579745                  0.555935\n",
       "3  1.316638  0.053059                  1.020617\n",
       "4  1.741003  0.009653                  0.995109"
      ]
     },
     "execution_count": 11,
     "metadata": {},
     "output_type": "execute_result"
    }
   ],
   "source": [
    "import pandas\n",
    "dataframe = pandas.DataFrame(data)\n",
    "# looking ar first elements\n",
    "dataframe.head()"
   ]
  },
  {
   "cell_type": "code",
   "execution_count": 12,
   "metadata": {
    "collapsed": false
   },
   "outputs": [
    {
     "data": {
      "text/html": [
       "<div>\n",
       "<table border=\"1\" class=\"dataframe\">\n",
       "  <thead>\n",
       "    <tr style=\"text-align: right;\">\n",
       "      <th></th>\n",
       "      <th>first</th>\n",
       "      <th>second</th>\n",
       "      <th>sin(first) * exp(second)</th>\n",
       "    </tr>\n",
       "  </thead>\n",
       "  <tbody>\n",
       "    <tr>\n",
       "      <th>2</th>\n",
       "      <td>0.316610</td>\n",
       "      <td>0.579745</td>\n",
       "      <td>0.555935</td>\n",
       "    </tr>\n",
       "    <tr>\n",
       "      <th>3</th>\n",
       "      <td>1.316638</td>\n",
       "      <td>0.053059</td>\n",
       "      <td>1.020617</td>\n",
       "    </tr>\n",
       "    <tr>\n",
       "      <th>4</th>\n",
       "      <td>1.741003</td>\n",
       "      <td>0.009653</td>\n",
       "      <td>0.995109</td>\n",
       "    </tr>\n",
       "    <tr>\n",
       "      <th>5</th>\n",
       "      <td>0.972303</td>\n",
       "      <td>1.488582</td>\n",
       "      <td>3.660670</td>\n",
       "    </tr>\n",
       "    <tr>\n",
       "      <th>6</th>\n",
       "      <td>2.068687</td>\n",
       "      <td>0.249502</td>\n",
       "      <td>1.127572</td>\n",
       "    </tr>\n",
       "  </tbody>\n",
       "</table>\n",
       "</div>"
      ],
      "text/plain": [
       "      first    second  sin(first) * exp(second)\n",
       "2  0.316610  0.579745                  0.555935\n",
       "3  1.316638  0.053059                  1.020617\n",
       "4  1.741003  0.009653                  0.995109\n",
       "5  0.972303  1.488582                  3.660670\n",
       "6  2.068687  0.249502                  1.127572"
      ]
     },
     "execution_count": 12,
     "metadata": {},
     "output_type": "execute_result"
    }
   ],
   "source": [
    "# taking eleents, that satisfy some condition\n",
    "dataframe[dataframe['second'] > 0].head()"
   ]
  },
  {
   "cell_type": "code",
   "execution_count": 13,
   "metadata": {
    "collapsed": false
   },
   "outputs": [
    {
     "data": {
      "text/html": [
       "<div>\n",
       "<table border=\"1\" class=\"dataframe\">\n",
       "  <thead>\n",
       "    <tr style=\"text-align: right;\">\n",
       "      <th></th>\n",
       "      <th>first</th>\n",
       "      <th>second</th>\n",
       "      <th>sin(first) * exp(second)</th>\n",
       "      <th>third</th>\n",
       "    </tr>\n",
       "  </thead>\n",
       "  <tbody>\n",
       "    <tr>\n",
       "      <th>0</th>\n",
       "      <td>1.049979</td>\n",
       "      <td>-0.221336</td>\n",
       "      <td>0.695186</td>\n",
       "      <td>0.828643</td>\n",
       "    </tr>\n",
       "    <tr>\n",
       "      <th>1</th>\n",
       "      <td>0.987117</td>\n",
       "      <td>-0.348333</td>\n",
       "      <td>0.589002</td>\n",
       "      <td>0.638785</td>\n",
       "    </tr>\n",
       "    <tr>\n",
       "      <th>2</th>\n",
       "      <td>0.316610</td>\n",
       "      <td>0.579745</td>\n",
       "      <td>0.555935</td>\n",
       "      <td>0.896355</td>\n",
       "    </tr>\n",
       "    <tr>\n",
       "      <th>3</th>\n",
       "      <td>1.316638</td>\n",
       "      <td>0.053059</td>\n",
       "      <td>1.020617</td>\n",
       "      <td>1.369697</td>\n",
       "    </tr>\n",
       "    <tr>\n",
       "      <th>4</th>\n",
       "      <td>1.741003</td>\n",
       "      <td>0.009653</td>\n",
       "      <td>0.995109</td>\n",
       "      <td>1.750656</td>\n",
       "    </tr>\n",
       "  </tbody>\n",
       "</table>\n",
       "</div>"
      ],
      "text/plain": [
       "      first    second  sin(first) * exp(second)     third\n",
       "0  1.049979 -0.221336                  0.695186  0.828643\n",
       "1  0.987117 -0.348333                  0.589002  0.638785\n",
       "2  0.316610  0.579745                  0.555935  0.896355\n",
       "3  1.316638  0.053059                  1.020617  1.369697\n",
       "4  1.741003  0.009653                  0.995109  1.750656"
      ]
     },
     "execution_count": 13,
     "metadata": {},
     "output_type": "execute_result"
    }
   ],
   "source": [
    "# adding new column\n",
    "dataframe['third'] = dataframe['first'] +  dataframe['second'] \n",
    "dataframe.head()"
   ]
  },
  {
   "cell_type": "markdown",
   "metadata": {},
   "source": [
    "## Histograms in python"
   ]
  },
  {
   "cell_type": "code",
   "execution_count": 14,
   "metadata": {
    "collapsed": false
   },
   "outputs": [
    {
     "data": {
      "text/plain": [
       "<matplotlib.text.Text at 0x104645150>"
      ]
     },
     "execution_count": 14,
     "metadata": {},
     "output_type": "execute_result"
    },
    {
     "data": {
      "image/png": "[encoded data removed]",
      "text/plain": [
       "<matplotlib.figure.Figure at 0x111f63190>"
      ]
     },
     "metadata": {},
     "output_type": "display_data"
    }
   ],
   "source": [
    "figure(figsize=(9, 7))\n",
    "hist(data['first'], bins=50)\n",
    "xlabel('first')"
   ]
  },
  {
   "cell_type": "code",
   "execution_count": 15,
   "metadata": {
    "collapsed": false
   },
   "outputs": [
    {
     "data": {
      "text/plain": [
       "<matplotlib.text.Text at 0x1120ac110>"
      ]
     },
     "execution_count": 15,
     "metadata": {},
     "output_type": "execute_result"
    },
    {
     "data": {
      "image/png": "[encoded data removed]",
      "text/plain": [
       "<matplotlib.figure.Figure at 0x111f63250>"
      ]
     },
     "metadata": {},
     "output_type": "display_data"
    }
   ],
   "source": [
    "figure(figsize=(9, 7))\n",
    "hist(data['second'], bins=50)\n",
    "xlabel('second')"
   ]
  }
 ],
 "metadata": {
  "kernelspec": {
   "display_name": "Python 2",
   "language": "python",
   "name": "python2"
  },
  "language_info": {
   "codemirror_mode": {
    "name": "ipython",
    "version": 2
   },
   "file_extension": ".py",
   "mimetype": "text/x-python",
   "name": "python",
   "nbconvert_exporter": "python",
   "pygments_lexer": "ipython2",
   "version": "2.7.11"
  }
 },
 "nbformat": 4,
 "nbformat_minor": 0
}
