{
 "cells": [
  {
   "cell_type": "markdown",
   "metadata": {},
   "source": [
    "# Grid Search in REP\n",
    "\n",
    "This notebook demonstrates tools to optimize classification model provided by __Reproducible experiment platform (REP)__ package:\n",
    "\n",
    "* __grid search for the best classifier hyperparameters__\n",
    "\n",
    "* __different optimization algorithms__ \n",
    "\n",
    "* __different scoring models__ (optimization of arbirtary figure of merit)\n",
    "\n"
   ]
  },
  {
   "cell_type": "code",
   "execution_count": 1,
   "metadata": {
    "collapsed": false
   },
   "outputs": [
    {
     "name": "stdout",
     "output_type": "stream",
     "text": [
      "Populating the interactive namespace from numpy and matplotlib\n"
     ]
    }
   ],
   "source": [
    "%pylab inline"
   ]
  },
  {
   "cell_type": "markdown",
   "metadata": {},
   "source": [
    "## Loading data \n",
    "Dataset 'magic' from UCI"
   ]
  },
  {
   "cell_type": "code",
   "execution_count": 2,
   "metadata": {
    "collapsed": false
   },
   "outputs": [
    {
     "name": "stdout",
     "output_type": "stream",
     "text": [
      "File `magic04.data' already there; not retrieving.\r\n"
     ]
    }
   ],
   "source": [
    "!cd toy_datasets; wget -O magic04.data -nc --no-check-certificate https://archive.ics.uci.edu/ml/machine-learning-databases/magic/magic04.data"
   ]
  },
  {
   "cell_type": "code",
   "execution_count": 3,
   "metadata": {
    "collapsed": false
   },
   "outputs": [],
   "source": [
    "import numpy, pandas\n",
    "from rep.utils import train_test_split\n",
    "from sklearn.metrics import roc_auc_score\n",
    "\n",
    "columns = ['fLength', 'fWidth', 'fSize', 'fConc', 'fConc1', 'fAsym', 'fM3Long', 'fM3Trans', 'fAlpha', 'fDist', 'g']\n",
    "data = pandas.read_csv('toy_datasets/magic04.data', names=columns)\n",
    "labels = numpy.array(data['g'] == 'g', dtype=int)\n",
    "data = data.drop('g', axis=1)"
   ]
  },
  {
   "cell_type": "markdown",
   "metadata": {},
   "source": [
    "# Simple grid search example\n",
    "In this example we are optimizing\n",
    "* parameters of GradientBoostingClassifier\n",
    "* we maximize RocAuc (= area under the ROC curve)\n",
    "* using 4 threads (each time we train 4 classifiers)\n",
    "* we use 3-Folding to estimate quality.\n",
    "* we use only 30 trees to make examples run fast"
   ]
  },
  {
   "cell_type": "code",
   "execution_count": 4,
   "metadata": {
    "collapsed": true
   },
   "outputs": [],
   "source": [
    "import numpy\n",
    "import numexpr\n",
    "import pandas\n",
    "from rep import utils\n",
    "from sklearn.ensemble import GradientBoostingClassifier\n",
    "from rep.report.metrics import RocAuc\n",
    "from rep.metaml import GridOptimalSearchCV, FoldingScorer, RandomParameterOptimizer\n",
    "from rep.estimators import SklearnClassifier, TMVAClassifier, XGBoostRegressor"
   ]
  },
  {
   "cell_type": "code",
   "execution_count": 5,
   "metadata": {
    "collapsed": false
   },
   "outputs": [],
   "source": [
    "# define grid parameters\n",
    "grid_param = {}\n",
    "grid_param['learning_rate'] = [0.2, 0.1, 0.05, 0.02, 0.01]\n",
    "grid_param['max_depth'] = [2, 3, 4, 5]\n",
    "\n",
    "# use random hyperparameter optimization algorithm \n",
    "generator = RandomParameterOptimizer(grid_param)\n",
    "\n",
    "# define folding scorer\n",
    "scorer = FoldingScorer(RocAuc(), folds=3, fold_checks=3)"
   ]
  },
  {
   "cell_type": "code",
   "execution_count": 6,
   "metadata": {
    "collapsed": false
   },
   "outputs": [
    {
     "name": "stdout",
     "output_type": "stream",
     "text": [
      "Performing grid search in 4 threads\n",
      "4 evaluations done\n",
      "8 evaluations done\n",
      "10 evaluations done\n",
      "CPU times: user 47.2 s, sys: 772 ms, total: 48 s\n",
      "Wall time: 17.5 s\n"
     ]
    }
   ],
   "source": [
    "%%time \n",
    "estimator = SklearnClassifier(GradientBoostingClassifier(n_estimators=30))\n",
    "grid_finder = GridOptimalSearchCV(estimator, generator, scorer, parallel_profile='threads-4')\n",
    "grid_finder.fit(data, labels)"
   ]
  },
  {
   "cell_type": "markdown",
   "metadata": {},
   "source": [
    "## Looking at results"
   ]
  },
  {
   "cell_type": "code",
   "execution_count": 7,
   "metadata": {
    "collapsed": false
   },
   "outputs": [
    {
     "name": "stdout",
     "output_type": "stream",
     "text": [
      "0.925:  learning_rate=0.2, max_depth=5\n",
      "0.924:  learning_rate=0.2, max_depth=4\n",
      "0.920:  learning_rate=0.1, max_depth=5\n",
      "0.917:  learning_rate=0.2, max_depth=3\n",
      "0.909:  learning_rate=0.05, max_depth=5\n",
      "0.901:  learning_rate=0.05, max_depth=4\n",
      "0.889:  learning_rate=0.1, max_depth=2\n",
      "0.888:  learning_rate=0.01, max_depth=5\n",
      "0.883:  learning_rate=0.02, max_depth=4\n",
      "0.866:  learning_rate=0.02, max_depth=3\n"
     ]
    }
   ],
   "source": [
    "grid_finder.params_generator.print_results()"
   ]
  },
  {
   "cell_type": "markdown",
   "metadata": {},
   "source": [
    "## Optimizing the parameters and threshold \n",
    "In many applications we need to optimize some binary metrics for classification (f1, BER, misclassification error), in which case we need each time after training classifier to find optimal threshold on predicted probabilities (default one is usually bad).\n",
    "\n",
    "In this example:\n",
    "* we are optimizing AMS (binary metric, that was used in Higgs competition at kaggle)\n",
    "* tuning parameters of TMVA's GBDT\n",
    "* using GaussianProcesses to make good guesses about next points to check"
   ]
  },
  {
   "cell_type": "code",
   "execution_count": 8,
   "metadata": {
    "collapsed": true
   },
   "outputs": [],
   "source": [
    "from rep.metaml import RegressionParameterOptimizer\n",
    "from sklearn.gaussian_process import GaussianProcess\n",
    "from rep.report.metrics import OptimalMetric, ams"
   ]
  },
  {
   "cell_type": "code",
   "execution_count": 9,
   "metadata": {
    "collapsed": false
   },
   "outputs": [
    {
     "name": "stdout",
     "output_type": "stream",
     "text": [
      "Performing grid search in 3 threads\n",
      "3 evaluations done\n",
      "6 evaluations done\n",
      "9 evaluations done\n",
      "12 evaluations done\n",
      "CPU times: user 8.38 s, sys: 1.67 s, total: 10.1 s\n",
      "Wall time: 1min 14s\n"
     ]
    }
   ],
   "source": [
    "%%time\n",
    "# OptimalMetrics is a wrapper which is able to check all possible thresholds\n",
    "# expected number of signal and background events are taken as some arbitrary numbers\n",
    "optimal_ams = OptimalMetric(ams, expected_s=100, expected_b=1000)\n",
    "\n",
    "# define grid parameters\n",
    "grid_param = {'Shrinkage': [0.4, 0.2, 0.1, 0.05, 0.02, 0.01], \n",
    "              'NTrees': [5, 10, 15, 20, 25], \n",
    "              # you can pass different sets of features to be compared\n",
    "              'features': [columns[:2], columns[:3], columns[:4]],\n",
    "             }\n",
    "\n",
    "# using GaussianProcesses \n",
    "generator = RegressionParameterOptimizer(grid_param, n_evaluations=10, regressor=GaussianProcess(), n_attempts=10)\n",
    "\n",
    "# define folding scorer\n",
    "scorer = FoldingScorer(optimal_ams, folds=2, fold_checks=2)\n",
    "\n",
    "grid_finder = GridOptimalSearchCV(TMVAClassifier(method='kBDT', BoostType='Grad',), generator, scorer, parallel_profile='threads-3')\n",
    "grid_finder.fit(data, labels)"
   ]
  },
  {
   "cell_type": "markdown",
   "metadata": {},
   "source": [
    "### Looking at results"
   ]
  },
  {
   "cell_type": "code",
   "execution_count": 10,
   "metadata": {
    "collapsed": false
   },
   "outputs": [
    {
     "name": "stdout",
     "output_type": "stream",
     "text": [
      "4.383:  Shrinkage=0.4, NTrees=25, features=['fLength', 'fWidth', 'fSize', 'fConc']\n",
      "4.307:  Shrinkage=0.2, NTrees=25, features=['fLength', 'fWidth', 'fSize', 'fConc']\n",
      "4.261:  Shrinkage=0.2, NTrees=20, features=['fLength', 'fWidth', 'fSize', 'fConc']\n",
      "4.253:  Shrinkage=0.4, NTrees=25, features=['fLength', 'fWidth', 'fSize']\n",
      "4.172:  Shrinkage=0.2, NTrees=25, features=['fLength', 'fWidth', 'fSize']\n",
      "4.123:  Shrinkage=0.2, NTrees=15, features=['fLength', 'fWidth', 'fSize', 'fConc']\n",
      "4.104:  Shrinkage=0.1, NTrees=20, features=['fLength', 'fWidth', 'fSize', 'fConc']\n",
      "4.064:  Shrinkage=0.1, NTrees=20, features=['fLength', 'fWidth', 'fSize']\n",
      "4.059:  Shrinkage=0.2, NTrees=10, features=['fLength', 'fWidth', 'fSize', 'fConc']\n",
      "4.045:  Shrinkage=0.2, NTrees=5, features=['fLength', 'fWidth', 'fSize', 'fConc']\n",
      "4.041:  Shrinkage=0.1, NTrees=10, features=['fLength', 'fWidth', 'fSize', 'fConc']\n",
      "3.731:  Shrinkage=0.4, NTrees=10, features=['fLength', 'fWidth']\n"
     ]
    }
   ],
   "source": [
    "grid_finder.generator.print_results()"
   ]
  },
  {
   "cell_type": "markdown",
   "metadata": {},
   "source": [
    "### Let's see dynamics over time"
   ]
  },
  {
   "cell_type": "code",
   "execution_count": 11,
   "metadata": {
    "collapsed": false
   },
   "outputs": [
    {
     "data": {
      "text/plain": [
       "[<matplotlib.lines.Line2D at 0x10fcf9a90>]"
      ]
     },
     "execution_count": 11,
     "metadata": {},
     "output_type": "execute_result"
    },
    {
     "data": {
      "image/png": "[encoded data removed]",
      "text/plain": [
       "<matplotlib.figure.Figure at 0x10deb45d0>"
      ]
     },
     "metadata": {},
     "output_type": "display_data"
    }
   ],
   "source": [
    "plot(grid_finder.generator.grid_scores_.values())"
   ]
  },
  {
   "cell_type": "markdown",
   "metadata": {},
   "source": [
    "# Optimizing complex models + using custom scorer\n",
    "__REP__ supports sklearn-way of combining classifiers and getting/setting their parameters.\n",
    "\n",
    "So you can tune complex models using the same approach. \n",
    "\n",
    "Let's optimize \n",
    "* BaggingRegressor over XGBoost regressor, we will select appropriate parameters for both\n",
    "* we will roll new scorer, which test everything on special part of dataset\n",
    "* we use the same data, which will be once split into train and test (this scenario of testing is sometimes needed)\n",
    "* optimizing MAE (mean absolute error)"
   ]
  },
  {
   "cell_type": "code",
   "execution_count": 12,
   "metadata": {
    "collapsed": true
   },
   "outputs": [],
   "source": [
    "from sklearn.ensemble import BaggingRegressor\n",
    "from rep.estimators import XGBoostRegressor"
   ]
  },
  {
   "cell_type": "code",
   "execution_count": 13,
   "metadata": {
    "collapsed": true
   },
   "outputs": [],
   "source": [
    "from rep.utils import train_test_split\n",
    "# splitting into train and test\n",
    "train_data, test_data, train_labels, test_labels = train_test_split(data, labels)"
   ]
  },
  {
   "cell_type": "code",
   "execution_count": 14,
   "metadata": {
    "collapsed": true
   },
   "outputs": [],
   "source": [
    "from sklearn.metrics import mean_absolute_error\n",
    "from sklearn.base import clone\n",
    "\n",
    "class MyMAEScorer(object):\n",
    "    def __init__(self, test_data, test_labels):\n",
    "        self.test_data = test_data\n",
    "        self.test_labels = test_labels\n",
    "        \n",
    "    def __call__(self, base_estimator, params, X, y, sample_weight=None):\n",
    "        cl = clone(base_estimator)\n",
    "        cl.set_params(**params)\n",
    "        cl.fit(X, y)\n",
    "        # Returning with minus, because we maximize metric\n",
    "        return - mean_absolute_error(self.test_labels, cl.predict(self.test_data))"
   ]
  },
  {
   "cell_type": "code",
   "execution_count": 16,
   "metadata": {
    "collapsed": false
   },
   "outputs": [
    {
     "name": "stdout",
     "output_type": "stream",
     "text": [
      "Performing grid search in 3 threads\n",
      "3 evaluations done\n",
      "6 evaluations done\n",
      "9 evaluations done\n",
      "CPU times: user 56.2 s, sys: 414 ms, total: 56.6 s\n",
      "Wall time: 24.7 s\n"
     ]
    }
   ],
   "source": [
    "%%time\n",
    "# define grid parameters\n",
    "grid_param = {\n",
    "    # parameters of sklearn Bagging\n",
    "    'n_estimators': [1, 3, 5, 7], \n",
    "    'max_samples': [0.2, 0.4, 0.6, 0.8],\n",
    "    # parameters of base (XGBoost)\n",
    "    'base_estimator__n_estimators': [10, 20, 40], \n",
    "    'base_estimator__eta': [0.1, 0.2, 0.4, 0.6, 0.8]\n",
    "}\n",
    "\n",
    "# using Gaussian Processes \n",
    "generator = RegressionParameterOptimizer(grid_param, n_evaluations=9, regressor=GaussianProcess(), n_attempts=10)\n",
    "\n",
    "estimator = BaggingRegressor(XGBoostRegressor(), n_estimators=10)\n",
    "\n",
    "scorer = MyMAEScorer(test_data, test_labels)\n",
    "\n",
    "grid_finder = GridOptimalSearchCV(estimator, generator, scorer, parallel_profile='threads-3')\n",
    "grid_finder.fit(data, labels)"
   ]
  },
  {
   "cell_type": "code",
   "execution_count": 17,
   "metadata": {
    "collapsed": false
   },
   "outputs": [
    {
     "name": "stdout",
     "output_type": "stream",
     "text": [
      "-0.153:  n_estimators=7, max_samples=0.6, base_estimator__n_estimators=40, base_estimator__eta=0.4\n",
      "-0.154:  n_estimators=5, max_samples=0.6, base_estimator__n_estimators=40, base_estimator__eta=0.4\n",
      "-0.158:  n_estimators=7, max_samples=0.4, base_estimator__n_estimators=40, base_estimator__eta=0.4\n",
      "-0.161:  n_estimators=1, max_samples=0.8, base_estimator__n_estimators=40, base_estimator__eta=0.4\n",
      "-0.168:  n_estimators=1, max_samples=0.8, base_estimator__n_estimators=40, base_estimator__eta=0.2\n",
      "-0.184:  n_estimators=7, max_samples=0.6, base_estimator__n_estimators=20, base_estimator__eta=0.2\n",
      "-0.190:  n_estimators=7, max_samples=0.2, base_estimator__n_estimators=10, base_estimator__eta=0.4\n",
      "-0.231:  n_estimators=1, max_samples=0.8, base_estimator__n_estimators=20, base_estimator__eta=0.1\n",
      "-0.232:  n_estimators=3, max_samples=0.8, base_estimator__n_estimators=20, base_estimator__eta=0.1\n"
     ]
    }
   ],
   "source": [
    "grid_finder.generator.print_results()"
   ]
  },
  {
   "cell_type": "markdown",
   "metadata": {},
   "source": [
    "# Summary\n",
    "Grid search in __REP__ extends sklearn grid search, uses optimization techniques to avoid complete search of estimator parameters. \n",
    "\n",
    "__REP__ has predefined scorers, metric functions, optimization techniques. Each component is replaceable and you can optimize complex models and pipelines (Folders/Bagging/Boosting and so on). \n",
    "\n",
    "## Structure together\n",
    "* _ParameterOptimizer_ is responsible for generating new set of parameters which will be checked\n",
    "  * RandomParameterOptimizer\n",
    "  * AnnealingParameterOptimizer\n",
    "  * SubgridParameterOptimizer\n",
    "  * RegressionParameterOptimizer (this one can use any regression model, like GaussianProcesses)\n",
    "  \n",
    "* _Scorer_ is responsible for training and evaluating metrics\n",
    "  * Folding scorer (uses metrics with __REP__ interface), uses averaging quality after kFolding\n",
    "  \n",
    "* _GridOptimalSearchCV_ makes all of this work together and sends tasks to IPython cluster or separate threads.\n",
    "\n",
    "\n"
   ]
  }
 ],
 "metadata": {
  "kernelspec": {
   "display_name": "Python 2",
   "language": "python",
   "name": "python2"
  },
  "language_info": {
   "codemirror_mode": {
    "name": "ipython",
    "version": 2
   },
   "file_extension": ".py",
   "mimetype": "text/x-python",
   "name": "python",
   "nbconvert_exporter": "python",
   "pygments_lexer": "ipython2",
   "version": "2.7.10"
  }
 },
 "nbformat": 4,
 "nbformat_minor": 0
}
